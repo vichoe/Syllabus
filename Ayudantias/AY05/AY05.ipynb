{
 "cells": [
  {
   "cell_type": "markdown",
   "metadata": {
    "id": "7OHec3OKuuVS"
   },
   "source": [
    "# Ayudantía 05 : Excepciones"
   ]
  },
  {
   "cell_type": "markdown",
   "metadata": {
    "id": "JvgWPwRauuVT"
   },
   "source": [
    "## Ayudantes\n",
    "\n",
    "* Julio Huerta\n",
    "* Felipe Vidal\n",
    "* Diego Toledo\n",
    "* Alejandro Held\n",
    "* Clemente Campos"
   ]
  },
  {
   "cell_type": "markdown",
   "metadata": {
    "id": "95GKwYpIzc0L"
   },
   "source": [
    "# Preámbulo\n",
    "## ¿Qué son las excepciones?\n",
    "Una excepciones es un error que ocurre durante la ejecución del código y que interrumpe su flujo normal, deteniendo la ejecución. Algunas de las excepciones que vienen de base en python son:\n",
    "\n",
    "- `AttributeError` : Error de atributo, por ejemplo se espera un `str` y se recibe un `int`\n",
    "- `KeyError`: Error que ocurre cuando se intenta acceder a una llave que no existe en un diccionario\n",
    "- `ZeroDivisionError`: Error que da al intentar dividir por cero\n",
    "- `SyntaxError`: Error que da cuando el codigo esta mal escrito\n",
    "\n",
    "Si uno no maneja estos errores, causa que el código pare automáticamente su ejecución. Durante esta ayudantía aprenderemos a manejarlas, crearlas y a expandir las excepciones creando nuevas excepciones personalizadas, para que así nuestro programa no se detenga y pueda seguir ejecutando."
   ]
  },
  {
   "cell_type": "markdown",
   "metadata": {
    "id": "NvDKKNo9xy33"
   },
   "source": [
    "# Levantar y Capturar Excepciones\n",
    "\n",
    "1. Primero debemos identificar una parte critica donde nuestro programa puede caerse, por ejemplo imaginemos que tenemos una función que divide dos numeros `a` y `b`, si `b=0` nos dara un Error\n",
    "2. Ahora debemos implementar un bloque `Try/Except` que es un bloque `if/else` especializado para trabajar con excepciones"
   ]
  },
  {
   "cell_type": "code",
   "execution_count": 16,
   "metadata": {},
   "outputs": [
    {
     "name": "stdout",
     "output_type": "stream",
     "text": [
      "El resultado de la división es: 5.0\n",
      "Fin del cálculo.\n",
      "Error: No se puede dividir por cero.\n",
      "Fin del cálculo.\n"
     ]
    }
   ],
   "source": [
    "def dividir(a, b):\n",
    "    try:\n",
    "        # Intentamos realizar la división\n",
    "        resultado = a / b\n",
    "        \n",
    "    except ZeroDivisionError:\n",
    "        # Capturamos la excepción si se intenta dividir por cero\n",
    "        print(\"Error: No se puede dividir por cero.\")\n",
    "        # raise  \n",
    "    else:\n",
    "        # Este bloque se ejecuta si no ocurre ninguna excepción\n",
    "        print(f\"El resultado de la división es: {resultado}\")\n",
    "    finally:\n",
    "        # Este bloque se ejecuta siempre, ocurra o no una excepción\n",
    "        print(\"Fin del cálculo.\")\n",
    "\n",
    "# Ejemplo de uso\n",
    "dividir(10, 2)  # Correcto, no lanza excepción\n",
    "dividir(10, 0)  # Lanza y captura la excepción\n"
   ]
  },
  {
   "cell_type": "markdown",
   "metadata": {},
   "source": [
    "En el ejemplo anterior, Python levanta automaticamente la Excepción al intentar hacer `a / b`. Pero podemos hacerlo nosostros manualmente usando la declaración `raise`, por ejemplo:"
   ]
  },
  {
   "cell_type": "code",
   "execution_count": 19,
   "metadata": {},
   "outputs": [
    {
     "name": "stdout",
     "output_type": "stream",
     "text": [
      "El resultado de la división es: 5.0\n",
      "Fin del cálculo.\n",
      "Error: No se puede dividir por cero.\n",
      "Fin del cálculo.\n"
     ]
    }
   ],
   "source": [
    "def dividir(a, b):\n",
    "    try:\n",
    "        if b == 0:\n",
    "            raise ZeroDivisionError()\n",
    "            \n",
    "    except ZeroDivisionError:\n",
    "        # Capturamos la excepción si se intenta dividir por cero\n",
    "        print(\"Error: No se puede dividir por cero.\")\n",
    "        # raise  \n",
    "    else:\n",
    "        # Este bloque se ejecuta si no ocurre ninguna excepción\n",
    "        print(f\"El resultado de la división es: {a / b}\")\n",
    "    finally:\n",
    "        # Este bloque se ejecuta siempre, ocurra o no una excepción\n",
    "        print(\"Fin del cálculo.\")\n",
    "\n",
    "# Ejemplo de uso\n",
    "dividir(10, 2)  # Correcto, no lanza excepción\n",
    "dividir(10, 0)  # Lanza y captura la excepción"
   ]
  },
  {
   "cell_type": "markdown",
   "metadata": {},
   "source": [
    "### Malas Practicas\n",
    "\n",
    "Es considerado mala practica capturar una excepción y no especificar de que tipo es o dar poca información. El siguiente codigo es un ejemplo de esto, **pero usted no lo haga**:"
   ]
  },
  {
   "cell_type": "code",
   "execution_count": 32,
   "metadata": {},
   "outputs": [
    {
     "name": "stdout",
     "output_type": "stream",
     "text": [
      "Se capturó un error.\n"
     ]
    }
   ],
   "source": [
    "lista = [0, 1, 2, 3, 4]\n",
    "\n",
    "try:\n",
    "    print(lista[5])\n",
    "    \n",
    "except:  # Muy genérico, evita esto\n",
    "    print(\"Se capturó un error.\")"
   ]
  },
  {
   "cell_type": "markdown",
   "metadata": {
    "id": "m2PRm4jLuuVU"
   },
   "source": [
    "# Ejercicio:  Space DCCowboys\n",
    "\n",
    "Estás tranquilo programando la T02 en la estación espacial de Marte junto a tu amigo robot **DvckBOT** y te das cuenta que te llega un mensaje de *DCConecta2* desde la Tierra. Para tu sorpresa es de prioridad nivel 1 enviado por la NASA el cual dice lo siguiente:\n",
    "\n",
    "\n",
    "*Estimade:*\n",
    "\n",
    "*Te escribo porque un objeto volador no identificado colisionó uno de nuestros satélites desviándolo de su ruta hacia la galaxia Andrómeda. Con el impacto, éste envió información errónea alterando todos los datos de estrellas y cuerpos celestes que recopiló **DvckBOT** en su estancia en Marte. Me comuniqué con personas expertas en el área y me dijeron que con tus conocimientos de programación podremos recuperar los datos y calcular una ruta segura para ir en busca del satélite a tiempo. Quedas al mando de esta nueva misión **Space DCCowboys**.\n",
    "Buena suerte y buen viaje vaquero espacial*\n",
    "\n",
    "<img src=\"data/spacelogo.png\" alt=\"drawing\" width=\"200\"/>\n",
    "\n"
   ]
  },
  {
   "cell_type": "markdown",
   "metadata": {
    "id": "yYcskxSRxeqQ"
   },
   "source": [
    "# Archivos\n",
    "\n",
    "### Estrellas\n",
    "Para este ejercicio se tienen dos archivos de información que utilizaremos. Por un lado tenemos el archivo `estrellas.csv` que contiene la siguiente información de las estrellas:\n",
    "\n",
    "* Nombre\n",
    "* Alias\n",
    "* Magnitud\n",
    "* Distancia\n",
    "* Temperatura\n",
    "* Radio\n",
    "* Luminosidad\n",
    "\n",
    "Por ejemplo estrellas en este formato:\n",
    "\n",
    "`Acamar,WF68,0;45,-144,14510,10,1076`\n",
    "\n",
    "`Acrux,QK55,0;77,325,27000,25,30000`\n",
    "\n",
    "...\n",
    "\n",
    "Pero tiene datos erróneos debido a la colisión, por lo que debemos arreglarlos antes de trabajar con estos."
   ]
  },
  {
   "cell_type": "markdown",
   "metadata": {},
   "source": [
    "### Estrellas cercanas\n",
    "\n",
    "Por otro lado, tenemos al archivo `estrellas_cercanas.txt` que contiene a todas las estrellas en la ruta, una por línea, excepto por aquellas que faltan debido a la colisión:\n",
    "\n",
    "Por ejemplo en este archivo tenemos:\n",
    "\n",
    "Acamar\n",
    "\n",
    "Acrux\n",
    "\n",
    "Aldhafera\n",
    "\n",
    "..."
   ]
  },
  {
   "cell_type": "markdown",
   "metadata": {
    "id": "_R_-iG-lxX0S"
   },
   "source": [
    "# Codigo Base\n",
    "\n",
    "Primero tenemos nuestra clase `estrella` que representará los cuerpos celestes que debemos explorar:"
   ]
  },
  {
   "cell_type": "code",
   "execution_count": 20,
   "metadata": {
    "id": "VTVuPXTc8NI5"
   },
   "outputs": [],
   "source": [
    "class Estrella:\n",
    "    def __init__(self, nombre, alias, magnitud, distancia, temperatura, radio,\n",
    "                 luminosidad):\n",
    "        self.nombre = nombre\n",
    "        self.alias = alias\n",
    "        self.magnitud = magnitud\n",
    "        self.temperatura = temperatura\n",
    "        self.distancia = distancia\n",
    "        self.radio = radio\n",
    "        self.luminosidad = luminosidad"
   ]
  },
  {
   "cell_type": "markdown",
   "metadata": {
    "id": "LRN9nzj48SVA"
   },
   "source": [
    "Tambien, utilizaremos una función para leer las estrellas de nuestro `.csv` e instanciar los objetos, despues retornamos las instancias creadas dentro de un diccionario, donde la llave será el nombre de la estrella y el valor el objeto."
   ]
  },
  {
   "cell_type": "code",
   "execution_count": 21,
   "metadata": {
    "id": "oOLWX1bJ8kDr"
   },
   "outputs": [],
   "source": [
    "def cargar_estrellas(nombre_archivo):\n",
    "    with open(nombre_archivo, \"rt\", encoding=\"utf-8\") as archivo:\n",
    "        next(archivo) #Es un iterador :D\n",
    "        texto = archivo.readlines()\n",
    "\n",
    "    diccionario_estrellas = {}\n",
    "    for linea in texto:\n",
    "        nombre, alias, magnitud, distancia, temperatura, radio, luminosidad = linea.split(',')\n",
    "        estrella = Estrella(\n",
    "            nombre, alias, magnitud, float(distancia), float(temperatura),\n",
    "            float(radio), float(luminosidad)\n",
    "        )\n",
    "        diccionario_estrellas[estrella.nombre] = estrella\n",
    "\n",
    "    return diccionario_estrellas"
   ]
  },
  {
   "cell_type": "markdown",
   "metadata": {
    "id": "V2TnoEMB9HnB"
   },
   "source": [
    "Finalmente, utilizaremos otra función para cargar el nombre de las estrellas cercanas que debemos recorrer y retornamos una lista con los nombres."
   ]
  },
  {
   "cell_type": "code",
   "execution_count": 22,
   "metadata": {
    "id": "l3ADFETv9OHN"
   },
   "outputs": [],
   "source": [
    "def cargar_nombres_estrellas_cercanas(nombre_archivo):\n",
    "    with open(nombre_archivo, 'rt') as archivo:\n",
    "        nombres = archivo.readlines()\n",
    "\n",
    "    # Lo siguiente es una lista por comprensión\n",
    "    return [nombre.strip() for nombre in nombres]"
   ]
  },
  {
   "cell_type": "markdown",
   "metadata": {},
   "source": [
    "## Parte 1\n",
    "\n",
    "Tenemos varias posibles fuentes de errores y debemos crear excepciones para cada tipo de error.\n",
    "\n",
    "1. Tenemos que el Alias de las estrellas tiene dos letras mayúsculas y dos números, siempre juntos (sólo puede haber 12AB o AB12), pero para que el alias sea correcto, las letras deben estar antes de los números y no puede contener la letra F. En caso de que alguno no se cumpla levantamos el error ValueError con el mensaje de error:\n",
    "\n",
    "`\"Error: El alias de la estrella es incorrecto.\"`"
   ]
  },
  {
   "cell_type": "code",
   "execution_count": 23,
   "metadata": {
    "id": "QjZWigYlLjWk"
   },
   "outputs": [],
   "source": [
    "def verificar_alias_estrella(estrella):\n",
    "    if estrella.alias[0:2].isnumeric() or \"F\" in estrella.alias:\n",
    "        raise ValueError(\"Error: El alias de la estrella es incorrecto.\")"
   ]
  },
  {
   "cell_type": "markdown",
   "metadata": {},
   "source": [
    "Con este error identificado, podemos arreglar los alias incorrectos de las estrellas: reordenando los números, cambiando las letras F por T o ambos casos. Luego de corregir el error debemos imprimir un mensaje avisando que se ha arreglado:\n",
    "\n",
    "`f\"El alias de {estrella.nombre} fue correctamente corregido.\\n\"`"
   ]
  },
  {
   "cell_type": "code",
   "execution_count": 24,
   "metadata": {},
   "outputs": [],
   "source": [
    "def corregir_alias_estrella(estrella):\n",
    "    try:\n",
    "        verificar_alias_estrella(estrella)\n",
    "    except ValueError as error:\n",
    "        print(error)\n",
    "        if \"F\" in estrella.alias:\n",
    "            estrella.alias = estrella.alias.replace(\"F\", \"T\")\n",
    "        if estrella.alias[0:2].isnumeric():\n",
    "            alias = estrella.alias[2:4]\n",
    "            alias += estrella.alias[0:2]\n",
    "\n",
    "        print(f\"El alias de {estrella.nombre} fue correctamente corregido.\\n\")"
   ]
  },
  {
   "cell_type": "markdown",
   "metadata": {
    "id": "_dm0ly8DLraz"
   },
   "source": [
    "2. Debido a la colisión, las distancias de algunas estrellas se volvieron *negativas*, por lo que debemos identificar este error e informarlo con un ValueError y crear una función que lo arregle informando que se arregló."
   ]
  },
  {
   "cell_type": "code",
   "execution_count": 25,
   "metadata": {
    "id": "tRY1ISbQNsaa"
   },
   "outputs": [],
   "source": [
    "# esta funcion permite levanta la Excepcion\n",
    "def verificar_distancia_estrella(estrella):\n",
    "    if estrella.distancia < 0:\n",
    "        raise ValueError(\"Error: Distancia negativa.\")\n",
    "\n",
    "\n",
    "# Esta función captura la excepcion y corrige el formato\n",
    "def corregir_distancia_estrella(estrella):\n",
    "    try:\n",
    "        verificar_distancia_estrella(estrella)\n",
    "    except ValueError as error:\n",
    "        print(error)\n",
    "        estrella.distancia = -1 * estrella.distancia\n",
    "        print(f\"La distancia de la estrella {estrella.nombre} fue corregida.\\n\")"
   ]
  },
  {
   "cell_type": "markdown",
   "metadata": {
    "id": "y_Kw_ZitN83o"
   },
   "source": [
    "3. Otro problema que proviene de las colisiones, es que las magnitudes de las estrellas cambiaron de tipo y hasta algunas ocupan \";\" para dividir la parte entera de la fracción del número!\n",
    "\n",
    "De nuevo necesitamos crear una función que identifique el error y otra que lo arregle"
   ]
  },
  {
   "cell_type": "code",
   "execution_count": 26,
   "metadata": {
    "id": "sQHjTlD1zSfp"
   },
   "outputs": [],
   "source": [
    "# esta funcion permite levanta la Excepcion\n",
    "def verificar_magnitud_estrella(estrella):\n",
    "    if not isinstance(estrella.magnitud, float):\n",
    "        raise TypeError(\"Error: Magnitud no es del tipo correcto.\")\n",
    "\n",
    "\n",
    "# Esta función captura la excepcion y corrige el formato\n",
    "def corregir_magnitud_estrella(estrella):\n",
    "    try:\n",
    "        verificar_magnitud_estrella(estrella)\n",
    "    except TypeError as error:\n",
    "        print(error)\n",
    "        if \";\" in estrella.magnitud:\n",
    "            estrella.magnitud = float(estrella.magnitud.replace(\";\", \".\"))\n",
    "        estrella.magnitud = float(estrella.magnitud)\n",
    "        print(f\"La magnitud de la estrella {estrella.nombre} fue corregida.\\n\")"
   ]
  },
  {
   "cell_type": "markdown",
   "metadata": {},
   "source": [
    "5. Finalmente utilizaremos un diccionario para guardar la información de las estrellas, usando la llave con el nombre de la estrella. Por lo que en caso de no existir la llave, debemos levantar una excepción para indicarlo."
   ]
  },
  {
   "cell_type": "code",
   "execution_count": 27,
   "metadata": {},
   "outputs": [],
   "source": [
    "def dar_alerta_estrella_cercana(nombre_estrella, diccionario_estrellas):\n",
    "    try:\n",
    "        estrella = diccionario_estrellas[nombre_estrella]\n",
    "        print(\n",
    "            f\"Estrella {nombre_estrella} está en nuestra base de datos.\" +\n",
    "            f\" Su alias es {estrella.alias}.\"\n",
    "        )\n",
    "    except KeyError:\n",
    "        print(\n",
    "            f\"Estrella {nombre_estrella} NO está en nuestra base de datos.\" +\n",
    "            \" Alerta!, puede ser una trampa de algún extraterrestre 👽!\"\n",
    "        )\n"
   ]
  },
  {
   "cell_type": "markdown",
   "metadata": {
    "id": "YQ6waZXUyB-d"
   },
   "source": [
    "# Parte 2: Excepciones Personalizadas\n",
    "\n",
    "En esta parte tenemos calcular la ruta de tu viaje interestelar. Para esto debemos completar una excepción personalizada llamada `RutaPeligrosa`. Esta excepción se encargará de que se descarten de tu ruta las estrellas peligrosas."
   ]
  },
  {
   "cell_type": "markdown",
   "metadata": {
    "id": "aNuTGqGiSU29"
   },
   "source": [
    " 1. Primero debemos definir la clase `RutaPeligrosa`, que  representa una excepción personalizada que simula un sistema de detección de peligros y tiene un método `dar_alerta_de_peligro` con el fin de imprimir un mensaje dependiendo del tipo de peligro."
   ]
  },
  {
   "cell_type": "code",
   "execution_count": 28,
   "metadata": {
    "id": "9YZUNN4gSsDs"
   },
   "outputs": [],
   "source": [
    "class RutaPeligrosa(Exception):\n",
    "\n",
    "    def __init__(self, tipo_peligro, nombre_estrella):\n",
    "        # Inicializamos la super clase Exception\n",
    "        super().__init__('Alto ahí viajero! Hay una amenaza en tu ruta...')\n",
    "        self.tipo_peligro = tipo_peligro\n",
    "        self.nombre_estrella = nombre_estrella\n",
    "\n",
    "\n",
    "    # este metodo nos ayudara a imprimir el tipo de peligro\n",
    "    def dar_alerta_peligro(self):\n",
    "        if self.tipo_peligro == \"luz\":\n",
    "            print('¡Ten cuidado que con tanta luz no podrás ver :(!')\n",
    "        elif self.tipo_peligro == 'tamaño':\n",
    "            print('Ooops! Esa estrella es demasiado grande...')\n",
    "        elif self.tipo_peligro == 'calor':\n",
    "            print('Alerta! Alerta! Peligro inminente de quedar carbonizados!')\n",
    "\n",
    "        print(f'La Estrella {self.nombre_estrella} ha quedado fuera de tu ruta.\\n')\n"
   ]
  },
  {
   "cell_type": "markdown",
   "metadata": {
    "id": "ngq_ng2gTCQH"
   },
   "source": [
    "2. Con el Excepción ya creada, ahora la utilizaremos en nuestro sistema de detección. Usaremos una función que recibe como argumento una `Estrella` y verifica que no sea peligrosa, es decir aquellas muy luminosas, muy grandes o con mucha temperatura. En caso de que no cumpla con algunas de estas caracteristicas, **Se Debe levantar la Excepción personalizada**, indicandole el tipo de peligro y el nombre de la estrella."
   ]
  },
  {
   "cell_type": "code",
   "execution_count": 29,
   "metadata": {
    "id": "9TS_x4HiVN5E"
   },
   "outputs": [],
   "source": [
    "def verificar_condiciones_estrella(estrella):\n",
    "    if estrella.luminosidad > 15500:\n",
    "        raise RutaPeligrosa(\"luz\", estrella.nombre)\n",
    "    elif estrella.magnitud > 4:\n",
    "        raise RutaPeligrosa(\"tamaño\", estrella.nombre)\n",
    "    elif estrella.temperatura > 7200:\n",
    "        raise RutaPeligrosa(\"calor\", estrella.nombre)\n"
   ]
  },
  {
   "cell_type": "markdown",
   "metadata": {
    "id": "TOq38FNEVp5t"
   },
   "source": [
    "3. Por ultimo, tendremos una función que recibe una lista de Estrellas, esta descartara aquellas peligrosas y retornara una lista con las estrellas seguras. Es esta función la que implementa los bloques `try/except` desde donde levantaremos la expceción personalizada."
   ]
  },
  {
   "cell_type": "code",
   "execution_count": 30,
   "metadata": {
    "id": "T_bmmHpRWHx_"
   },
   "outputs": [],
   "source": [
    "def generar_ruta_estrellas(estrellas):\n",
    "    ruta_de_estrellas = []\n",
    "    for estrella in estrellas:\n",
    "        try:\n",
    "            verificar_condiciones_estrella(estrella)\n",
    "            ruta_de_estrellas.append(estrella.nombre)\n",
    "            print(f'¡La Estrella {estrella.nombre} se ha agregado a tu ruta!'\n",
    "             + u'\\x02' + '\\n')\n",
    "\n",
    "        except RutaPeligrosa as error:\n",
    "            print(f'Error: {error}')\n",
    "            error.dar_alerta_peligro()\n",
    "\n",
    "    return ruta_de_estrellas"
   ]
  },
  {
   "cell_type": "markdown",
   "metadata": {
    "id": "ZgoUunPiyFHR"
   },
   "source": [
    "# Ejecución main\n",
    "\n",
    "Con todo el código finalizado, abrimos los archivos, arreglamos los errores que se crearon y calculamos la ruta de estrellas segura."
   ]
  },
  {
   "cell_type": "code",
   "execution_count": null,
   "metadata": {},
   "outputs": [],
   "source": [
    "diccionario_estrellas = cargar_estrellas(\"Data/estrellas.csv\")\n",
    "nombres_estrellas = cargar_nombres_estrellas_cercanas(\"Data/estrellas_cercanas.txt\")\n",
    "\n",
    "print(\"Revisando posibles errores en las estrellas...\\n\")\n",
    "for estrella in diccionario_estrellas.values():\n",
    "    corregir_alias_estrella(estrella)\n",
    "    corregir_distancia_estrella(estrella)\n",
    "    corregir_magnitud_estrella(estrella)\n",
    "\n",
    "print(\"Revisando estrellas inexistentes...\\n\")\n",
    "for nombre_estrella in nombres_estrellas:\n",
    "    dar_alerta_estrella_cercana(nombre_estrella, diccionario_estrellas)\n",
    "\n",
    "print(\"Generando ruta de estrellas...\\n\")\n",
    "ruta_de_estrellas = generar_ruta_estrellas(diccionario_estrellas.values())\n",
    "\n",
    "\n",
    "print(58*u'\\xb7')\n",
    "print('¡Enhorabuena! ¡Te has salvado de las estrellas peligrosas!\\n')\n",
    "print(u'\\u2554' + 5*u'\\u2550' + ' RUTA DE ESTRELLAS ' + 5*u'\\u2550' + u'\\u2557')\n",
    "for estrella in ruta_de_estrellas:\n",
    "    dif = 29 - len(estrella)\n",
    "    if dif % 2 == 0:\n",
    "        espacio1 = int(dif/2)\n",
    "        espacio2 = int(dif/2)\n",
    "    else:\n",
    "        espacio1 = dif//2\n",
    "        espacio2 = (dif//2) + 1\n",
    "    print(u'\\u2551' + espacio1*' ' + estrella + espacio2*' ' + u'\\u2551')\n",
    "print(u'\\u255a' + 29*u'\\u2550' + u'\\u255d')\n",
    "print('\\nBUEN VIAJE AMIGUE ESPACIAL' + u'\\x03')"
   ]
  }
 ],
 "metadata": {
  "colab": {
   "provenance": [],
   "toc_visible": true
  },
  "kernelspec": {
   "display_name": "Python 3 (ipykernel)",
   "language": "python",
   "name": "python3"
  },
  "language_info": {
   "codemirror_mode": {
    "name": "ipython",
    "version": 3
   },
   "file_extension": ".py",
   "mimetype": "text/x-python",
   "name": "python",
   "nbconvert_exporter": "python",
   "pygments_lexer": "ipython3",
   "version": "3.11.7"
  }
 },
 "nbformat": 4,
 "nbformat_minor": 4
}
