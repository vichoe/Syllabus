{
 "cells": [
  {
   "cell_type": "markdown",
   "metadata": {},
   "source": [
    "## Ayudantía 6: Programación funcional ➡️🗺️\n",
    "\n",
    "## Ayudantes\n",
    "\n",
    "* Julio Huerta\n",
    "* Felipe Vidal\n",
    "* Diego Toledo\n",
    "* Alejandro Held\n",
    "* Clemente Campos\n"
   ]
  },
  {
   "cell_type": "markdown",
   "metadata": {},
   "source": [
    "## En semanas anteriores...\n",
    "\n",
    "En las semanas anteriores hemos visto temas fundamentales para poder entender y ocupar de manera efectiva los contenidos de esta semana, para refrescar la memoria vamos a verlos de forma rápida.\n",
    "\n",
    "### Iterables e Iteradores\n",
    "\n",
    "De forma sencilla se puede entender que los **Iterables** son todos aquellos objetos a los cuales se les puede introducir en un ciclo for (`for a in iterable:`). Esto quiere decir implicitamente que hay una idea que se pueden **recorrer** y que pueden estar compuestos de elementos más pequeños. Como las listas que tienen elementos dentro o los diccionarios que tienen llaves y valores.\n",
    "\n",
    "Además podemos crear nuestros propios Iterables agregando el metodo `__iter__` a la clase. Este método debe retornar un iterador el cual es un objeto que contiene los metodos `__iter__` y `__next__`."
   ]
  },
  {
   "cell_type": "code",
   "execution_count": 1,
   "metadata": {},
   "outputs": [
    {
     "name": "stdout",
     "output_type": "stream",
     "text": [
      "Lista\n",
      "1\n",
      "2\n",
      "3\n",
      "4\n",
      "\n",
      "Diccionario\n",
      "a\n",
      "b\n",
      "c\n",
      "d\n"
     ]
    },
    {
     "ename": "TypeError",
     "evalue": "'int' object is not iterable",
     "output_type": "error",
     "traceback": [
      "\u001b[0;31m---------------------------------------------------------------------------\u001b[0m",
      "\u001b[0;31mTypeError\u001b[0m                                 Traceback (most recent call last)",
      "Cell \u001b[0;32mIn[1], line 14\u001b[0m\n\u001b[1;32m     11\u001b[0m     \u001b[38;5;28mprint\u001b[39m(elemento)\n\u001b[1;32m     13\u001b[0m \u001b[38;5;66;03m#Como los int no son iterables, un ciclo for levanta una excepción\u001b[39;00m\n\u001b[0;32m---> 14\u001b[0m \u001b[38;5;28;43;01mfor\u001b[39;49;00m\u001b[43m \u001b[49m\u001b[43melemento\u001b[49m\u001b[43m \u001b[49m\u001b[38;5;129;43;01min\u001b[39;49;00m\u001b[43m \u001b[49m\u001b[38;5;241;43m5\u001b[39;49m\u001b[43m:\u001b[49m\n\u001b[1;32m     15\u001b[0m \u001b[43m    \u001b[49m\u001b[38;5;28;43mprint\u001b[39;49m\u001b[43m(\u001b[49m\u001b[43melemento\u001b[49m\u001b[43m)\u001b[49m\n",
      "\u001b[0;31mTypeError\u001b[0m: 'int' object is not iterable"
     ]
    }
   ],
   "source": [
    "\n",
    "#Como las listas son iterables, puedo hacer un ciclo for\n",
    "lista = [1,2,3,4]\n",
    "print(\"Lista\")\n",
    "for elemento in lista:\n",
    "    print(elemento)\n",
    "\n",
    "#Como los diccionarios son iterables, puedo hacer un ciclo for\n",
    "diccionario = {\"a\":1, \"b\":2, \"c\":3, \"d\":4}\n",
    "print(\"\\nDiccionario\")\n",
    "for elemento in diccionario:\n",
    "    print(elemento)\n",
    "\n",
    "#Como los int no son iterables, un ciclo for levanta una excepción\n",
    "for elemento in 5:\n",
    "    print(elemento)\n",
    "\n"
   ]
  },
  {
   "cell_type": "markdown",
   "metadata": {},
   "source": [
    "### Generadores\n",
    "\n",
    "Los generadores son una forma rápida de poder crear un iterable, los cuales posteriormente se buscan recorrer. La forma vista hasta ahora es crear generadores por **comprensión**. "
   ]
  },
  {
   "cell_type": "code",
   "execution_count": 13,
   "metadata": {},
   "outputs": [
    {
     "name": "stdout",
     "output_type": "stream",
     "text": [
      "[1, 4, 9, 16, 25, 36, 49, 64, 81, 100, 121, 144, 169, 196, 225, 256, 289, 324, 361, 400]\n"
     ]
    }
   ],
   "source": [
    "#Se explicita una expresion entre paréntesis. La cual me entregará los primero 20 cuadrados perfectos\n",
    "generador = (numero ** 2 for numero in range(1,21)) \n",
    "\n",
    "#Luego se recorre el generador para crear una lista\n",
    "lista = [elemento for elemento in generador]\n",
    "print(lista)\n"
   ]
  },
  {
   "cell_type": "markdown",
   "metadata": {},
   "source": [
    "# Contenidos de esta semana\n",
    "\n",
    "## Programación funcional\n",
    "\n",
    "Hasta ahora en el curso ha tenido un fuerte enfoque en programación orientada a objetos (OOP). Esto se refiere a que al momento de presentarse una situación a resolver, siempre se intenta modelar el problema utilizando **Objetos**, los cuales encapsulan distintos comportamiento y atributos.\n",
    "\n",
    "La programación funcional es otro paradigma de programación, el cual sigue una estructura lineal, esto quiere decir que no nos vamos a centrar en crear objetos que contengan el comportamiento e interactuen entre ellos, sino que vamos a tratar que todo el comportamiento se vea encapsulado en **funciones**. En el caso de la programación funcional pura, su resultado **solo depende de los inputs de la función** sin almacenar nada en memoria.\n",
    "\n",
    "Primero, en cada función se reciben ciertos estados como arguementos, se procesan y finalmente se retorna un nuevo estado, sin almacenar nada en memoria al ir calculando todo durante la ejecución.\n",
    "\n",
    "## Funciones generadoras\n",
    "\n",
    "Como vimos recien, los generadores son útiles para obtener iterables siguiendo cierta lógica. Cuando la lógica que sigue un generador debe ser más compleja, o se quiere tener una forma rápida de crear nuevos generadores similares dependiendo de un input se utilizan las **funciones generadoras**.\n",
    "\n",
    "Las funciones generadoras son muy similares a las funciones comunes, pero con la particularidad de que en vez de return, se tiene **yield**. `yield` se distingue en que al contrario que return, la próxima vez que se ejecute la función **el código sigue después del yield**. Esto hace que las funciones con `yield` retornen un **generador**"
   ]
  },
  {
   "cell_type": "code",
   "execution_count": 14,
   "metadata": {},
   "outputs": [
    {
     "name": "stdout",
     "output_type": "stream",
     "text": [
      "[1, 4, 9, 16, 25, 36, 49, 64, 81, 100, 121, 144, 169, 196, 225, 256, 289, 324, 361, 400]\n"
     ]
    }
   ],
   "source": [
    "def cuadrados_perfectos(maximo):\n",
    "  i = 1\n",
    "  while i <= maximo:\n",
    "    yield i**2 #La próxima iteración partira con el mismo i de antes\n",
    "    i += 1\n",
    "\n",
    "\n",
    "generador = cuadrados_perfectos(20)\n",
    "print([a for a in generador])"
   ]
  },
  {
   "cell_type": "markdown",
   "metadata": {},
   "source": [
    "# Funciones lambda:\n",
    "Para entender una función lambda, vamos a ver un pequeño ejemplo. Digamos que quiero tener una función que me diga si una palabra contiene una letra A más de 3 veces. Esta funcion es **Simple** y por el contexto en que la voy a necesitar, **solo será ocupada 1 vez**.\n",
    "\n",
    "Una solución válida es:\n"
   ]
  },
  {
   "cell_type": "code",
   "execution_count": 22,
   "metadata": {},
   "outputs": [
    {
     "name": "stdout",
     "output_type": "stream",
     "text": [
      "False\n",
      "True\n"
     ]
    }
   ],
   "source": [
    "def contiene_3_a(palabra: str):\n",
    "    return palabra.count(\"a\") > 3\n",
    "\n",
    "print(contiene_3_a(\"hola\"))\n",
    "print(contiene_3_a(\"holaaaaa\"))"
   ]
  },
  {
   "cell_type": "markdown",
   "metadata": {},
   "source": [
    "Como vemos, la función cumple su misión. Pero tiene ciertas dificultades.\n",
    "* Primero, acabamos de definir una función la cual solo queremos utiliza una vez (Es desechable), pero el nombre de esta función es una **Variable Global** que puede ser accedida por cualquier parte del programa y que se almacenará hasta que la ejecución termine.\n",
    "\n",
    "* Segundo, tuvimos que escribir 2 lineas de código para escribir una función bastante simple.\n",
    "\n",
    "Para resolver estos problemas, existen las **Funciones Lambda**. Estas son una forma de generar funciones simples, anónimas y desechables. De esta manera podemos obtener la funcion que queriamos sin tener que generar variables globales ni escribir más de una linea de código.\n",
    "\n",
    "Las funciones lambda tienen la siguiente sintaxis `lambda variable1, variable2: lógica`. A continuación se presentan algunas."
   ]
  },
  {
   "cell_type": "code",
   "execution_count": 23,
   "metadata": {},
   "outputs": [
    {
     "data": {
      "text/plain": [
       "True"
      ]
     },
     "execution_count": 23,
     "metadata": {},
     "output_type": "execute_result"
    }
   ],
   "source": [
    "# La misma función de antes pero escrita como función lambda\n",
    "lambda palabra: palabra.count(\"a\") > 3\n",
    "\n",
    "# Una funcion lambda que nos dice si un número es divisor de otro\n",
    "lambda x, y: x % y == 0\n",
    "\n",
    "#Ejemplo de uso\n",
    "(lambda palabra: palabra.count(\"a\") > 3)(\"Holaaaaaa\")"
   ]
  },
  {
   "cell_type": "markdown",
   "metadata": {},
   "source": [
    "Una duda lógica es ¿Porque utilizar una función en vez de simplemente escribir la expresión directamente?. Por ejemplo, para que utlizar `(lambda palabra: palabra.count(\"a\") > 3)(\"holaaaa\")` en vez de `\"holaaaa\".count(\"a\") > 3`.\n",
    "\n",
    " La razón es que hay **funciones que reciben como argumentos otras funciones**. Por lo que al escribir `\"holaaaa\".count(\"a\") > 3` estamos entregando True como argumento. Mientras que si entregamos `lambda palabra: palabra.count(\"a\") > 3` entregamos una función."
   ]
  },
  {
   "cell_type": "markdown",
   "metadata": {},
   "source": [
    "## Funciones sobre iterables que retornan otros iterables."
   ]
  },
  {
   "cell_type": "markdown",
   "metadata": {},
   "source": [
    "# Función map:\n",
    "\n",
    "`map()` es una función que recibe **una función** y **al menos un iterable**, y retorna un nuevo iterable donde cada elemento es el resultado de aplicar la función a todo los elementos.  Al recibir múltiples iterables, map retornará un iterable con la cantidad de elementos igual al iterable más corto.\n",
    "\n",
    "Por ejemplo si tenemos una lista de números y queremos obtener una lista con el cuadrado de cada número, podemos hacer lo siguiente:"
   ]
  },
  {
   "cell_type": "code",
   "execution_count": 26,
   "metadata": {},
   "outputs": [
    {
     "name": "stdout",
     "output_type": "stream",
     "text": [
      "<class 'map'>\n",
      "<map object at 0x106087280>\n",
      "[1, 1024, 25, 144, 64, 9]\n"
     ]
    }
   ],
   "source": [
    "lista = [1, 32, 5, 12, 8, 3]\n",
    "\n",
    "# Se aplica la función lambda a cada elemento de la lista para elevar al cuadrado\n",
    "resultado = map(lambda numero: numero**2, lista)\n",
    "print(type(resultado))\n",
    "print(resultado)\n",
    "print(list(resultado))"
   ]
  },
  {
   "cell_type": "markdown",
   "metadata": {},
   "source": [
    "Se puede observar que se obtiene un objeto de tipo map, por lo que si queremos ver los elementos de este iterable debemos recorrerlo o convertirlo a una lista. Para observar que solo se llega a recorrer el iterable de menor tamaño, vamos a hacer un ejemplo con dos listas de distinto tamaño, donde añadimos los strings luego de sacar las vocales al primer string. "
   ]
  },
  {
   "cell_type": "code",
   "execution_count": 27,
   "metadata": {},
   "outputs": [
    {
     "name": "stdout",
     "output_type": "stream",
     "text": [
      "['hladios', 'mndmundo', 'pythnjava', 'mnunca', 'ncntmas']\n"
     ]
    }
   ],
   "source": [
    "def suma(a: str, b: str):\n",
    "    vocales = 'aeiou'\n",
    "    result = \"\"\n",
    "    \n",
    "    for char in a:\n",
    "        if char.lower() not in vocales:\n",
    "            result += char\n",
    "    \n",
    "    return result+b\n",
    "\n",
    "\n",
    "\n",
    "lista1 = [\"hola\", \"mundo\", \"python\", \"me\", \"encanta\", \"programar\", \"en\", \"python\"]\n",
    "lista2 = [\"adios\", \"mundo\", \"java\", \"nunca\", \"mas\"]\n",
    "\n",
    "# Se aplica la función suma a cada par de elementos de las listas\n",
    "resultado = map(suma, lista1, lista2)\n",
    "print(list(resultado))\n"
   ]
  },
  {
   "cell_type": "markdown",
   "metadata": {},
   "source": [
    "La función map solo recorre hasta el largo del iterable más corto, por lo que solo se obtienen los primeros 5 elementos de la lista, hasta la palabra \"encanta\" que queda como ncnt."
   ]
  },
  {
   "cell_type": "markdown",
   "metadata": {},
   "source": [
    "# Función filter:\n",
    "\n",
    "La función filter se comporta de manera similar a map, pero aplica una función que retorna un booleano. Si la función retorna True, el elemento se guarda en el iterable, si retorna False, el elemento es descartado. Así, como dice su nombre, podemos filtrar elementos de un iterable de manera rápida. Por ejemplo si queremos filtrar los strings que contengan al menos 3 vocales, podemos hacer lo siguiente:"
   ]
  },
  {
   "cell_type": "code",
   "execution_count": 29,
   "metadata": {},
   "outputs": [
    {
     "name": "stdout",
     "output_type": "stream",
     "text": [
      "<class 'filter'>\n",
      "['encanta', 'programar']\n"
     ]
    }
   ],
   "source": [
    "def cantidad_vocales(palabra: str):\n",
    "    vocales = 'aeiou'\n",
    "    return len([char for char in palabra if char.lower() in vocales])\n",
    "\n",
    "def al_menos_tres_vocales(palabra: str):\n",
    "    return cantidad_vocales(palabra) >= 3\n",
    "\n",
    "lista = [\"hola\", \"mundo\", \"python\", \"me\", \"encanta\", \"programar\", \"en\", \"python\"]\n",
    "\n",
    "# Se aplica la función al_menos_tres_vocales a cada elemento de la lista\n",
    "resultado = filter(al_menos_tres_vocales, lista)\n",
    "print(type(resultado))\n",
    "print(list(resultado))"
   ]
  },
  {
   "cell_type": "markdown",
   "metadata": {},
   "source": [
    "Con filter también obtenemos un objeto de tipo filter, por lo que si queremos ver los elementos de este iterable debemos convertirlo a una lista. Podemos ver que solo quedan las palabras que tienen al menos 3 vocales."
   ]
  },
  {
   "cell_type": "markdown",
   "metadata": {},
   "source": [
    "# Función reduce:\n",
    "\n",
    "Por otra parte tenemos `reduce()`, la cual recibe una función y un iterable, y retorna un solo valor. La función que recibe `reduce` **debe recibir dos argumentos, y retornar un solo valor**. `reduce` aplica la función entregada a los dos primeros elementos del iterable, luego al resultado de esto con el tercer elemento, y así sucesivamente hasta recorrer todo el iterable. Por ejemplo si queremos sumar todos los elementos de una lista, podemos hacer lo siguiente:"
   ]
  },
  {
   "cell_type": "code",
   "execution_count": 30,
   "metadata": {},
   "outputs": [
    {
     "name": "stdout",
     "output_type": "stream",
     "text": [
      "Sumando 10 y -3\n",
      "Sumando 7 y 5\n",
      "Sumando 12 y 7\n",
      "Sumando 19 y 9\n",
      "Sumando 28 y 1\n",
      "Sumando 29 y 0\n",
      "Sumando 29 y -2\n",
      "<class 'int'>\n",
      "27\n"
     ]
    }
   ],
   "source": [
    "from functools import reduce\n",
    "\n",
    "\n",
    "def suma(a: int, b: int):\n",
    "    print(f\"Sumando {a} y {b}\")\n",
    "    return a + b\n",
    "\n",
    "lista1 = [10, -3, 5, 7, 9, 1, 0, -2]\n",
    "\n",
    "# Se aplica la función suma a cada par de elementos de la lista\n",
    "resultado = reduce(suma, lista1)\n",
    "print(type(resultado))\n",
    "print(resultado)"
   ]
  },
  {
   "cell_type": "markdown",
   "metadata": {},
   "source": [
    "Aquí se puede ver que se obtiene un solo valor, que es la suma de todos los elementos. Además se puede ver que se recorren todos los elementos de la lista y se puede añadir lógica adicional dentro de la función que se entrega a reduce."
   ]
  },
  {
   "cell_type": "markdown",
   "metadata": {},
   "source": [
    "## ¿No es mejor ocupar un ciclo for?\n",
    "\n",
    "Primero que todo, es importante decir que lo que hemos visto efectivamente se puede realizar en un ciclo for. Pero las funciones map, filter y reduce tienen ventajas considerables.\n",
    "\n",
    "* **Permiten un código conciso y fácil de leer**: Al leer un map o un reduce es rápido entender que operación se están aplicando al iterable, no es necesario entender la lógica de un ciclo for.\n",
    "\n",
    "* **Enfoque funcional puro**: El resultado de estas operaciones viene decidida únicamente por el input que tiene la función. Luego es 100% funcional y nos permite pensar en **Qué hacer** por sobre el **Como hacerlo**.\n",
    "\n",
    "* **La evaluación de map y filter se realiza al final**: Una particularidad de map y filter es que la función a aplicar no se evalua inmediatamente, sino que **solamente se evalua al momento de iterar sobre el objeto filter o map**. Esta es la razón de que no se pueda hacer un buen ``print()`` a estos objetos. A continuación hay un ejemplo de esto:"
   ]
  },
  {
   "cell_type": "markdown",
   "metadata": {},
   "source": [
    "Vamos a realizar un map el cual va a realizar la división 1/0. Lo cual es un crimen contra las matemáticas."
   ]
  },
  {
   "cell_type": "code",
   "execution_count": 31,
   "metadata": {},
   "outputs": [
    {
     "name": "stdout",
     "output_type": "stream",
     "text": [
      "<map object at 0x1062d5450>\n"
     ]
    }
   ],
   "source": [
    "lista_de_ceros = [0, 0, 0, 0, 0, 0, 0, 0, 0, 0]\n",
    "resultado_map = map(lambda numero: 1 / numero, lista_de_ceros)\n",
    "print(resultado_map)\n"
   ]
  },
  {
   "cell_type": "markdown",
   "metadata": {},
   "source": [
    "Como podemos ver, el objeto map fue creado, pero no levanto ninguna excepción. Esto se debe a que la función map solo aplica la función cuando se itera. Veamos que pasa al momento de intentar iterar."
   ]
  },
  {
   "cell_type": "code",
   "execution_count": 32,
   "metadata": {},
   "outputs": [
    {
     "ename": "ZeroDivisionError",
     "evalue": "division by zero",
     "output_type": "error",
     "traceback": [
      "\u001b[0;31m---------------------------------------------------------------------------\u001b[0m",
      "\u001b[0;31mZeroDivisionError\u001b[0m                         Traceback (most recent call last)",
      "Cell \u001b[0;32mIn[32], line 1\u001b[0m\n\u001b[0;32m----> 1\u001b[0m \u001b[38;5;28;43;01mfor\u001b[39;49;00m\u001b[43m \u001b[49m\u001b[43melemento\u001b[49m\u001b[43m \u001b[49m\u001b[38;5;129;43;01min\u001b[39;49;00m\u001b[43m \u001b[49m\u001b[43mresultado_map\u001b[49m\u001b[43m:\u001b[49m\n\u001b[1;32m      2\u001b[0m \u001b[43m    \u001b[49m\u001b[38;5;28;43mprint\u001b[39;49m\u001b[43m(\u001b[49m\u001b[43melemento\u001b[49m\u001b[43m)\u001b[49m\n",
      "Cell \u001b[0;32mIn[31], line 2\u001b[0m, in \u001b[0;36m<lambda>\u001b[0;34m(numero)\u001b[0m\n\u001b[1;32m      1\u001b[0m lista_de_ceros \u001b[38;5;241m=\u001b[39m [\u001b[38;5;241m0\u001b[39m, \u001b[38;5;241m0\u001b[39m, \u001b[38;5;241m0\u001b[39m, \u001b[38;5;241m0\u001b[39m, \u001b[38;5;241m0\u001b[39m, \u001b[38;5;241m0\u001b[39m, \u001b[38;5;241m0\u001b[39m, \u001b[38;5;241m0\u001b[39m, \u001b[38;5;241m0\u001b[39m, \u001b[38;5;241m0\u001b[39m]\n\u001b[0;32m----> 2\u001b[0m resultado_map \u001b[38;5;241m=\u001b[39m \u001b[38;5;28mmap\u001b[39m(\u001b[38;5;28;01mlambda\u001b[39;00m numero: \u001b[38;5;241;43m1\u001b[39;49m\u001b[43m \u001b[49m\u001b[38;5;241;43m/\u001b[39;49m\u001b[43m \u001b[49m\u001b[43mnumero\u001b[49m, lista_de_ceros)\n\u001b[1;32m      3\u001b[0m \u001b[38;5;28mprint\u001b[39m(resultado_map)\n",
      "\u001b[0;31mZeroDivisionError\u001b[0m: division by zero"
     ]
    }
   ],
   "source": [
    "for elemento in resultado_map:\n",
    "    print(elemento)"
   ]
  },
  {
   "cell_type": "markdown",
   "metadata": {},
   "source": [
    "# Un poco más allá\n",
    "Python tambien nos provee algunas funciones para trabajar con iteradores como puede ser `zip()` la cual toma varios iterables y los combina en tuplas, donde cada tupla contiene un elemento de cada uno de los iterables en las mismas posiciones."
   ]
  },
  {
   "cell_type": "code",
   "execution_count": 10,
   "metadata": {},
   "outputs": [
    {
     "name": "stdout",
     "output_type": "stream",
     "text": [
      "[('Julio', 'Huerta'), ('Felipe', 'Vidal'), ('Diego', 'Toledo'), ('Alejandro', 'Held'), ('Clemente', 'Campos')]\n"
     ]
    }
   ],
   "source": [
    "nombres = [\"Julio\", \"Felipe\", \"Diego\", \"Alejandro\", \"Clemente\"]\n",
    "apellidos = [\"Huerta\", \"Vidal\", \"Toledo\", \"Held\", \"Campos\"]\n",
    "\n",
    "# Usamos zip para combinar ambas listas en tuplas\n",
    "combinado = zip(nombres, apellidos)\n",
    "\n",
    "# Convertimos a una lista para visualizar el resultado\n",
    "lista_combinada = list(combinado)\n",
    "\n",
    "print(lista_combinada)"
   ]
  },
  {
   "cell_type": "markdown",
   "metadata": {},
   "source": [
    "Es posible \"deshacer\" un `zip`, ayudandonos del operador `*`"
   ]
  },
  {
   "cell_type": "code",
   "execution_count": 33,
   "metadata": {},
   "outputs": [
    {
     "name": "stdout",
     "output_type": "stream",
     "text": [
      "('Julio', 'Felipe', 'Diego', 'Alejandro', 'Clemente')\n",
      "('Huerta', 'Vidal', 'Toledo', 'Held', 'Campos')\n"
     ]
    }
   ],
   "source": [
    "nombres, apellidos = zip(*lista_combinada)  # unzip\n",
    "\n",
    "print(nombres)\n",
    "print(apellidos)"
   ]
  },
  {
   "cell_type": "markdown",
   "metadata": {},
   "source": [
    "## Itertools\n",
    "Ademas de las funciones build-in, tambien tenemos un modulo llamado `itertools` que nos brinda una gama más grande de funciones para trabajar con iterables. Algunos ejemplos interesantes son:"
   ]
  },
  {
   "cell_type": "code",
   "execution_count": 1,
   "metadata": {},
   "outputs": [],
   "source": [
    "import itertools"
   ]
  },
  {
   "cell_type": "markdown",
   "metadata": {},
   "source": [
    "#### `Cycle`\n",
    "recorre un iterable infinitamente, reiniciándose cuando llega al final. Esto es útil cuando quieres repetir una secuencia de manera cíclica.\n"
   ]
  },
  {
   "cell_type": "code",
   "execution_count": 2,
   "metadata": {},
   "outputs": [
    {
     "name": "stdout",
     "output_type": "stream",
     "text": [
      "Lunes\n",
      "Martes\n",
      "Miércoles\n",
      "Jueves\n",
      "Viernes\n",
      "Lunes\n",
      "Martes\n",
      "Miércoles\n",
      "Jueves\n",
      "Viernes\n",
      "Lunes\n",
      "Martes\n",
      "Miércoles\n",
      "Jueves\n"
     ]
    }
   ],
   "source": [
    "# Ciclar entre los días de la semana\n",
    "dias = itertools.cycle(['Lunes', 'Martes', 'Miércoles', 'Jueves', 'Viernes'])\n",
    "\n",
    "# Mostramos los primeros 14 días\n",
    "for _ in range(14):\n",
    "    print(next(dias)) \n"
   ]
  },
  {
   "cell_type": "markdown",
   "metadata": {},
   "source": [
    "#### `permutations` y `combinations`\n",
    "Para crear permutaciones donde el orden de los elementos es importante y combinaciones donde el orden de los elementos no es importante"
   ]
  },
  {
   "cell_type": "code",
   "execution_count": 3,
   "metadata": {},
   "outputs": [
    {
     "name": "stdout",
     "output_type": "stream",
     "text": [
      "(1, 2)\n",
      "(1, 3)\n",
      "(2, 1)\n",
      "(2, 3)\n",
      "(3, 1)\n",
      "(3, 2)\n"
     ]
    }
   ],
   "source": [
    "# Permutaciones de 2 elementos de la lista [1, 2, 3]\n",
    "permutaciones = itertools.permutations([1, 2, 3], 2)\n",
    "\n",
    "for p in permutaciones:\n",
    "    print(p)"
   ]
  },
  {
   "cell_type": "code",
   "execution_count": 7,
   "metadata": {},
   "outputs": [
    {
     "name": "stdout",
     "output_type": "stream",
     "text": [
      "(1, 2)\n",
      "(1, 3)\n",
      "(2, 3)\n"
     ]
    }
   ],
   "source": [
    "# Combinaciones de n elementos de la lista [1, 2, 3]\n",
    "combinaciones = itertools.combinations([1, 2, 3], 2) # en este caso n=2\n",
    "\n",
    "# Mostramos las combinaciones\n",
    "for c in combinaciones:\n",
    "    print(c)"
   ]
  },
  {
   "cell_type": "markdown",
   "metadata": {},
   "source": [
    "#### `islice()`\n",
    "permite obtener partes especificas de un iterable (slicing) de manera eficiente."
   ]
  },
  {
   "cell_type": "code",
   "execution_count": 34,
   "metadata": {},
   "outputs": [
    {
     "name": "stdout",
     "output_type": "stream",
     "text": [
      "0\n",
      "1\n",
      "2\n",
      "3\n",
      "4\n"
     ]
    }
   ],
   "source": [
    "contador = (x for x in range(20))\n",
    "\n",
    "# Usamos islice para tomar solo los primeros 5 números\n",
    "# si contador fuese una lista seria equivalente a contador[0:5]\n",
    "primeros_cinco = itertools.islice(contador, 5)\n",
    "\n",
    "for numero in primeros_cinco:\n",
    "    print(numero)"
   ]
  },
  {
   "cell_type": "markdown",
   "metadata": {},
   "source": [
    "## Funcion generadora de lectura de archivos \n",
    "#### (basado en Aplicaciones de los contenidos)\n",
    "Si queremos leer un archivo de texto muy grande, al cargar todas las lineas con `file.readlines()` nuestro computador se estresara y comenzara a sufrir. Es mucho mejor hacerlo con una función generadora, ademas en este caso cargaremos los datos a una `namedtuple` para ahorrar aun más memoria\n"
   ]
  },
  {
   "cell_type": "code",
   "execution_count": 2,
   "metadata": {},
   "outputs": [],
   "source": [
    "# 1) Primero creamos la namedtuple\n",
    "from collections import namedtuple\n",
    "Ayudante = namedtuple('Ayudante', ['nombre', 'apellido', 'area', 'cargo'])"
   ]
  },
  {
   "cell_type": "code",
   "execution_count": 3,
   "metadata": {},
   "outputs": [],
   "source": [
    "# 2) Hacemos la funcion generadora\n",
    "def cargar_ayudantes(ruta_archivo):\n",
    "    with open(ruta_archivo, encoding=\"utf-8\") as file:\n",
    "        file.readline()  # para quitar las cabeceras\n",
    "        for line in file:\n",
    "            info = line.strip().split(\",\")\n",
    "            yield Ayudante(*info)"
   ]
  },
  {
   "cell_type": "code",
   "execution_count": 4,
   "metadata": {},
   "outputs": [
    {
     "name": "stdout",
     "output_type": "stream",
     "text": [
      "Ayudante(nombre='Patricio', apellido='Hinostroza', area='General', cargo='Lider Supremo')\n",
      "Ayudante(nombre='Amanda', apellido='Sandoval', area='Bienestar', cargo='coordinadora')\n",
      "Ayudante(nombre='Maria Pia', apellido='Vega', area='Tareas', cargo='Coordinadora')\n",
      "Ayudante(nombre='Catalina', apellido='Ortega', area='Tareas', cargo='Jefa')\n",
      "Ayudante(nombre='Julio', apellido='Huerta', area='Docencia', cargo='Coordinador')\n"
     ]
    }
   ],
   "source": [
    "# 3) Finalmente usamos la funcion!\n",
    "\n",
    "generador_ayudantes = cargar_ayudantes(\"ayudantes.txt\")\n",
    "\n",
    "\n",
    "print(next(generador_ayudantes))\n",
    "print(next(generador_ayudantes))\n",
    "print(next(generador_ayudantes))\n",
    "print(next(generador_ayudantes))\n",
    "print(next(generador_ayudantes))"
   ]
  },
  {
   "cell_type": "code",
   "execution_count": 5,
   "metadata": {},
   "outputs": [
    {
     "ename": "StopIteration",
     "evalue": "",
     "output_type": "error",
     "traceback": [
      "\u001b[0;31m---------------------------------------------------------------------------\u001b[0m",
      "\u001b[0;31mStopIteration\u001b[0m                             Traceback (most recent call last)",
      "Cell \u001b[0;32mIn[5], line 2\u001b[0m\n\u001b[1;32m      1\u001b[0m \u001b[38;5;66;03m# Si pedimos un elemento más nos dara error :(\u001b[39;00m\n\u001b[0;32m----> 2\u001b[0m \u001b[38;5;28mprint\u001b[39m(\u001b[38;5;28;43mnext\u001b[39;49m\u001b[43m(\u001b[49m\u001b[43mgenerador_ayudantes\u001b[49m\u001b[43m)\u001b[49m)\n",
      "\u001b[0;31mStopIteration\u001b[0m: "
     ]
    }
   ],
   "source": [
    "# Si pedimos un elemento más nos dara error :(\n",
    "print(next(generador_ayudantes))"
   ]
  }
 ],
 "metadata": {
  "kernelspec": {
   "display_name": "Python 3",
   "language": "python",
   "name": "python3"
  },
  "language_info": {
   "codemirror_mode": {
    "name": "ipython",
    "version": 3
   },
   "file_extension": ".py",
   "mimetype": "text/x-python",
   "name": "python",
   "nbconvert_exporter": "python",
   "pygments_lexer": "ipython3",
   "version": "3.11.7"
  }
 },
 "nbformat": 4,
 "nbformat_minor": 2
}
