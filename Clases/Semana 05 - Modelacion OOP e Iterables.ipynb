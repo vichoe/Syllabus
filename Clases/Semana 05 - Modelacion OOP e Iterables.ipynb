{
 "cells": [
  {
   "cell_type": "markdown",
   "metadata": {},
   "source": [
    "<p>\n",
    "<font size='5' face='Georgia, Arial'>IIC2233 Apunte Programación Avanzada</font><br>\n",
    "<font size='1'>&copy; 2024 Daniela Concha. Todos los derechos reservados.</font>\n",
    "</p>"
   ]
  },
  {
   "cell_type": "markdown",
   "metadata": {},
   "source": [
    "# Tabla de contenidos\n",
    "\n",
    "1. [Ejemplos de Iterable e Iterador](#Ejemplos_de_Iterable_e_Iterador)\n",
    "    1. [Los efectos del **Iterable** se ven afectador por el **Iterador**](#Los_efectos_del_Iterable_se_ven_afectador_por_el_Iterador)\n",
    "    2. [Opción 1: Hacer uso de `deepcopy`](#Opción_1_Hacer_uso_de_deepcopy)\n",
    "    3. [Opción 2: Solo copiar los elementos necesarios](#Opción_2_Solo_copiar_los_elementos_necesarios)\n",
    "2. [Beneficios de utilizar un Iterables e Iteradores personalizados](#Beneficios_de_utilizar_un_Iterables_e_Iteradores_personalizados)\n",
    "    1. [Recorrer de izquierda a derecha](#Recorrer_de_izquierda_a_derecha)\n",
    "    1. [Recorrer de derecha a izquierda](#Recorrer_de_derecha_a_izquierda)\n",
    "    1. [Recorrer de forma alfabética](#Recorrer_de_forma_alfabética)\n",
    "    1. [Recorrer de forma aleatoria](#Recorrer_de_forma_aleatoria)"
   ]
  },
  {
   "cell_type": "markdown",
   "metadata": {},
   "source": [
    "## Ejemplos de Iterable e Iterador\n",
    "\n",
    "Los siguientes códigos buscan poner en ejecución el código presentado en la clase de esta semana (Semana 05 - Modelación OOP e Iterables (Cartas)), resaltando la importancia de hacer que el **Iterador** no afecte a los elementos del **Iterable**."
   ]
  },
  {
   "cell_type": "markdown",
   "metadata": {},
   "source": [
    "### Los efectos del **Iterable** se ven afectador por el **Iterador**"
   ]
  },
  {
   "cell_type": "code",
   "execution_count": 1,
   "metadata": {},
   "outputs": [],
   "source": [
    "from copy import copy\n",
    "from typing import Any, List, Self\n",
    "\n",
    "\n",
    "class Carta(str):\n",
    "    pass\n",
    "\n",
    "class RecorribleDeCartas:\n",
    "    def __init__(self, cartas: List[Carta]) -> None:\n",
    "        self.cartas = cartas\n",
    "\n",
    "    def __iter__(self) -> Any:\n",
    "            return RecorredorDeCartas(self)\n",
    "\n",
    "class RecorredorDeCartas:\n",
    "    def __init__(self, recorrible: RecorribleDeCartas) -> None:\n",
    "        # Para no modificar original, se hace una copy del recorrible.\n",
    "        self.recorrible = copy(recorrible)\n",
    "\n",
    "    def __iter__(self) -> Self:\n",
    "        return self\n",
    "\n",
    "    def __next__(self) -> Any:\n",
    "        if not self.recorrible.cartas:\n",
    "            raise StopIteration(\"Sin cartas\")\n",
    "\n",
    "        cartas = self.recorrible.cartas\n",
    "        proxima_carta = cartas.pop(0)\n",
    "        return proxima_carta"
   ]
  },
  {
   "cell_type": "code",
   "execution_count": 2,
   "metadata": {},
   "outputs": [
    {
     "name": "stdout",
     "output_type": "stream",
     "text": [
      "AS\n",
      "J\n",
      "Q\n"
     ]
    }
   ],
   "source": [
    "mazo = RecorribleDeCartas([Carta('AS'), Carta('J'), Carta('Q'), Carta('K')])\n",
    "iterador_mazo = iter(mazo)\n",
    "\n",
    "print(next(iterador_mazo))\n",
    "print(next(iterador_mazo))\n",
    "print(next(iterador_mazo))"
   ]
  },
  {
   "cell_type": "markdown",
   "metadata": {},
   "source": [
    "Si iteramos sobre el `RecorribleDeCartas`, podremos notar que obtendremos un iterador (`RecorredorDeCartas`) y que podremos obtener cada carta del maso. \n",
    "\n",
    "Pero si revisamos las cartas del mazo original (`mazo`), podremos notar que las cartas fueros modificadas 😱:"
   ]
  },
  {
   "cell_type": "code",
   "execution_count": 3,
   "metadata": {},
   "outputs": [
    {
     "name": "stdout",
     "output_type": "stream",
     "text": [
      "Cartas del iterable del mazo: ['K']\n",
      "Cartas del iterador del mazo: ['K']\n"
     ]
    }
   ],
   "source": [
    "print('Cartas del iterable del mazo:', mazo.cartas)\n",
    "print('Cartas del iterador del mazo:', iterador_mazo.recorrible.cartas)"
   ]
  },
  {
   "cell_type": "markdown",
   "metadata": {},
   "source": [
    "¿Qué causa lo anterior? \n",
    "> Cuando se hace la copia del `RecorribleDeCartas`\n",
    "> ```python\n",
    "> self.recorrible = copy(recorrible)\n",
    "> ```\n",
    "> estamos haciendo una \"_soft copy_\" de la instancia, por lo que solo se crea una nueva instancia con los mismos atributos de la original, pero no se hace una copia profunda de los mismos, por lo que la lista de cartas (`cartas`) de `RecorribleDeCartas` será la misma que la del `RecordorDeCartas`.\n",
    "\n",
    "Entonces, ¿cómo podemos evitar lo anterior?"
   ]
  },
  {
   "cell_type": "markdown",
   "metadata": {},
   "source": [
    "### Opción 1: Hacer uso de `deepcopy`\n",
    "\n",
    "Al hacer uso de `deepcopy` para generar la copia de la instancia de `RecorribleDeCartas`, entonces nos aseguraremos que sus cartas no sean la misma instancia que las del `RecordorDeCartas`."
   ]
  },
  {
   "cell_type": "code",
   "execution_count": 4,
   "metadata": {},
   "outputs": [],
   "source": [
    "from copy import deepcopy\n",
    "from typing import Any, List, Self\n",
    "\n",
    "\n",
    "class Carta(str):\n",
    "    pass\n",
    "\n",
    "class RecorribleDeCartas:\n",
    "    def __init__(self, cartas: List[Carta]) -> None:\n",
    "        self.cartas = cartas\n",
    "\n",
    "    def __iter__(self) -> Any:\n",
    "            return RecorredorDeCartas(self)\n",
    "\n",
    "class RecorredorDeCartas:\n",
    "    def __init__(self, recorrible: RecorribleDeCartas) -> None:\n",
    "        # Para no modificar original, se hace una deepcopy del recorrible.\n",
    "        self.recorrible = deepcopy(recorrible)\n",
    "\n",
    "    def __iter__(self) -> Self:\n",
    "        return self\n",
    "\n",
    "    def __next__(self) -> Any:\n",
    "        if not self.recorrible.cartas:\n",
    "            raise StopIteration(\"Sin cartas\")\n",
    "\n",
    "        cartas = self.recorrible.cartas\n",
    "        proxima_carta = cartas.pop(0)\n",
    "        return proxima_carta"
   ]
  },
  {
   "cell_type": "code",
   "execution_count": 5,
   "metadata": {},
   "outputs": [
    {
     "name": "stdout",
     "output_type": "stream",
     "text": [
      "AS\n",
      "J\n",
      "Q\n",
      "\n",
      "Cartas del iterable del mazo: ['AS', 'J', 'Q', 'K']\n",
      "Cartas del iterador del mazo: ['K']\n"
     ]
    }
   ],
   "source": [
    "mazo = RecorribleDeCartas([Carta('AS'), Carta('J'), Carta('Q'), Carta('K')])\n",
    "iterador_mazo = iter(mazo)\n",
    "\n",
    "print(next(iterador_mazo))\n",
    "print(next(iterador_mazo))\n",
    "print(next(iterador_mazo))\n",
    "\n",
    "print()\n",
    "\n",
    "print('Cartas del iterable del mazo:', mazo.cartas)\n",
    "print('Cartas del iterador del mazo:', iterador_mazo.recorrible.cartas)"
   ]
  },
  {
   "cell_type": "markdown",
   "metadata": {},
   "source": [
    "### Opción 2: Solo copiar los elementos necesarios\n",
    "\n",
    "Otra alternativa, es solo copiar los elementos que son necesarios para el recorrible, en este caso, el listado de cartas."
   ]
  },
  {
   "cell_type": "code",
   "execution_count": 6,
   "metadata": {},
   "outputs": [],
   "source": [
    "from typing import Any, List, Self\n",
    "\n",
    "\n",
    "class Carta(str):\n",
    "    pass\n",
    "\n",
    "class RecorribleDeCartas:\n",
    "    def __init__(self, cartas: List[Carta]) -> None:\n",
    "        self.cartas = cartas\n",
    "\n",
    "    def __iter__(self) -> Any:\n",
    "            # Para evitar entregar la instancia de RecorribleDeCartas,\n",
    "            # solo se entrega el listado de cartas.\n",
    "            return RecorredorDeCartas(self.cartas)\n",
    "\n",
    "class RecorredorDeCartas:\n",
    "    def __init__(self, recorrible: List[Carta]) -> None:\n",
    "        # Para no modificar original, se hace una copia del listado de cartas.\n",
    "        self.cartas = recorrible.copy()\n",
    "\n",
    "    def __iter__(self) -> Self:\n",
    "        return self\n",
    "\n",
    "    def __next__(self) -> Any:\n",
    "        if not self.cartas:\n",
    "            raise StopIteration(\"Sin cartas\")\n",
    "\n",
    "        proxima_carta = self.cartas.pop(0)\n",
    "        return proxima_carta"
   ]
  },
  {
   "cell_type": "code",
   "execution_count": 7,
   "metadata": {},
   "outputs": [
    {
     "name": "stdout",
     "output_type": "stream",
     "text": [
      "AS\n",
      "J\n",
      "Q\n",
      "\n",
      "Cartas del iterable del mazo: ['AS', 'J', 'Q', 'K']\n",
      "Cartas del iterador del mazo: ['K']\n"
     ]
    }
   ],
   "source": [
    "mazo = RecorribleDeCartas([Carta('AS'), Carta('J'), Carta('Q'), Carta('K')])\n",
    "iterador_mazo = iter(mazo)\n",
    "\n",
    "print(next(iterador_mazo))\n",
    "print(next(iterador_mazo))\n",
    "print(next(iterador_mazo))\n",
    "\n",
    "print()\n",
    "\n",
    "print('Cartas del iterable del mazo:', mazo.cartas)\n",
    "print('Cartas del iterador del mazo:', iterador_mazo.cartas)"
   ]
  },
  {
   "cell_type": "markdown",
   "metadata": {},
   "source": [
    "## Beneficios de utilizar un Iterables e Iteradores personalizados\n",
    "\n",
    "Uno de los beneficios de hacer itables personalizados es que nos permite modificar el comportamiento que utilizamos para recorrer los elementos del iterable.\n",
    "\n",
    "Aprovechandonos de los ejemplos vistosn en clase (Semana 05 - Modelación OOP e Iterables (Cartas)), podemos recorrer el mazo de cartas de distintas formas:"
   ]
  },
  {
   "cell_type": "markdown",
   "metadata": {},
   "source": [
    "### Recorrer de izquierda a derecha"
   ]
  },
  {
   "cell_type": "code",
   "execution_count": 8,
   "metadata": {},
   "outputs": [],
   "source": [
    "from typing import Any, List, Self\n",
    "\n",
    "\n",
    "class Carta(str):\n",
    "    pass\n",
    "\n",
    "class RecorribleDeCartas:\n",
    "    def __init__(self, cartas: List[Carta]) -> None:\n",
    "        self.cartas = cartas\n",
    "\n",
    "    def __iter__(self) -> Any:\n",
    "            return RecorredorDeCartas(self.cartas)\n",
    "\n",
    "class RecorredorDeCartas:\n",
    "    def __init__(self, recorrible: List[Carta]) -> None:\n",
    "        self.cartas = recorrible.copy()\n",
    "\n",
    "    def __iter__(self) -> Self:\n",
    "        return self\n",
    "\n",
    "    def __next__(self) -> Any:\n",
    "        if not self.cartas:\n",
    "            raise StopIteration(\"Sin cartas\")\n",
    "\n",
    "        # Obtenemos la primera carta de la lista y la sacamos.\n",
    "        proxima_carta = self.cartas.pop(0)\n",
    "        return proxima_carta"
   ]
  },
  {
   "cell_type": "code",
   "execution_count": 9,
   "metadata": {},
   "outputs": [
    {
     "name": "stdout",
     "output_type": "stream",
     "text": [
      "AS\n",
      "J\n",
      "Q\n",
      "K\n"
     ]
    }
   ],
   "source": [
    "mazo = RecorribleDeCartas([Carta('AS'), Carta('J'), Carta('Q'), Carta('K')])\n",
    "\n",
    "for carta in mazo:\n",
    "    print(carta)"
   ]
  },
  {
   "cell_type": "markdown",
   "metadata": {},
   "source": [
    "### Recorrer de derecha a izquierda"
   ]
  },
  {
   "cell_type": "code",
   "execution_count": 10,
   "metadata": {},
   "outputs": [],
   "source": [
    "from typing import Any, List, Self\n",
    "\n",
    "\n",
    "class Carta(str):\n",
    "    pass\n",
    "\n",
    "class RecorribleDeCartas:\n",
    "    def __init__(self, cartas: List[Carta]) -> None:\n",
    "        self.cartas = cartas\n",
    "\n",
    "    def __iter__(self) -> Any:\n",
    "            return RecorredorDeCartas(self.cartas)\n",
    "\n",
    "class RecorredorDeCartas:\n",
    "    def __init__(self, recorrible: List[Carta]) -> None:\n",
    "        self.cartas = recorrible.copy()\n",
    "\n",
    "    def __iter__(self) -> Self:\n",
    "        return self\n",
    "\n",
    "    def __next__(self) -> Any:\n",
    "        if not self.cartas:\n",
    "            raise StopIteration(\"Sin cartas\")\n",
    "\n",
    "        # Obtenemos la última carta de la lista y la sacamos.\n",
    "        proxima_carta = self.cartas.pop(-1)\n",
    "        return proxima_carta"
   ]
  },
  {
   "cell_type": "code",
   "execution_count": 11,
   "metadata": {},
   "outputs": [
    {
     "name": "stdout",
     "output_type": "stream",
     "text": [
      "K\n",
      "Q\n",
      "J\n",
      "AS\n"
     ]
    }
   ],
   "source": [
    "mazo = RecorribleDeCartas([Carta('AS'), Carta('J'), Carta('Q'), Carta('K')])\n",
    "\n",
    "for carta in mazo:\n",
    "    print(carta)"
   ]
  },
  {
   "cell_type": "markdown",
   "metadata": {},
   "source": [
    "### Recorrer las cartas por orden alfabético"
   ]
  },
  {
   "cell_type": "code",
   "execution_count": 12,
   "metadata": {},
   "outputs": [],
   "source": [
    "from typing import Any, List, Self\n",
    "\n",
    "\n",
    "class Carta(str):\n",
    "    pass\n",
    "\n",
    "class RecorribleDeCartas:\n",
    "    def __init__(self, cartas: List[Carta]) -> None:\n",
    "        self.cartas = cartas\n",
    "\n",
    "    def __iter__(self) -> Any:\n",
    "            return RecorredorDeCartas(self.cartas)\n",
    "\n",
    "class RecorredorDeCartas:\n",
    "    def __init__(self, recorrible: List[Carta]) -> None:\n",
    "        self.cartas = recorrible.copy()\n",
    "        # Ordenamos las cartas.\n",
    "        self.cartas.sort()\n",
    "\n",
    "    def __iter__(self) -> Self:\n",
    "        return self\n",
    "\n",
    "    def __next__(self) -> Any:\n",
    "        if not self.cartas:\n",
    "            raise StopIteration(\"Sin cartas\")\n",
    "\n",
    "        # Obtenemos la primera carta de la lista y la sacamos.\n",
    "        proxima_carta = self.cartas.pop(0)\n",
    "        return proxima_carta"
   ]
  },
  {
   "cell_type": "code",
   "execution_count": 13,
   "metadata": {},
   "outputs": [
    {
     "name": "stdout",
     "output_type": "stream",
     "text": [
      "AS\n",
      "J\n",
      "K\n",
      "Q\n"
     ]
    }
   ],
   "source": [
    "mazo = RecorribleDeCartas([Carta('AS'), Carta('J'), Carta('Q'), Carta('K')])\n",
    "\n",
    "for carta in mazo:\n",
    "    print(carta)"
   ]
  },
  {
   "cell_type": "markdown",
   "metadata": {},
   "source": [
    "### Recorrer de forma aleatoria"
   ]
  },
  {
   "cell_type": "code",
   "execution_count": 14,
   "metadata": {},
   "outputs": [],
   "source": [
    "from typing import Any, List, Self\n",
    "from random import randint\n",
    "\n",
    "\n",
    "class Carta(str):\n",
    "    pass\n",
    "\n",
    "class RecorribleDeCartas:\n",
    "    def __init__(self, cartas: List[Carta]) -> None:\n",
    "        self.cartas = cartas\n",
    "\n",
    "    def __iter__(self) -> Any:\n",
    "            return RecorredorDeCartas(self.cartas)\n",
    "\n",
    "class RecorredorDeCartas:\n",
    "    def __init__(self, recorrible: List[Carta]) -> None:\n",
    "        self.cartas = recorrible.copy()\n",
    "\n",
    "    def __iter__(self) -> Self:\n",
    "        return self\n",
    "\n",
    "    def __next__(self) -> Any:\n",
    "        if not self.cartas:\n",
    "            raise StopIteration(\"Sin cartas\")\n",
    "\n",
    "        # Obtenemos un número al azar entre 0 y el largo de la lista,\n",
    "        # y sacamos dicho elemento de la lista.\n",
    "        n = randint(0, len(self.cartas) -1)\n",
    "        proxima_carta = self.cartas.pop(n)\n",
    "        return proxima_carta"
   ]
  },
  {
   "cell_type": "code",
   "execution_count": 15,
   "metadata": {},
   "outputs": [
    {
     "name": "stdout",
     "output_type": "stream",
     "text": [
      "K\n",
      "AS\n",
      "J\n",
      "Q\n"
     ]
    }
   ],
   "source": [
    "mazo = RecorribleDeCartas([Carta('AS'), Carta('J'), Carta('Q'), Carta('K')])\n",
    "\n",
    "for carta in mazo:\n",
    "    print(carta)"
   ]
  },
  {
   "cell_type": "markdown",
   "metadata": {},
   "source": [
    "Finalmente, no recuerden que cada `Iterador` o `Recorredor` son instancias independientes, por lo que podemos utilizar cada unos de estos para recorrer de forma simultánea el `Iterable` o `Recorrible` sin que estos se afecten entre sí:"
   ]
  },
  {
   "cell_type": "code",
   "execution_count": 16,
   "metadata": {},
   "outputs": [
    {
     "name": "stdout",
     "output_type": "stream",
     "text": [
      "Iteramos sobre el iterador 1: J\n",
      "Iteramos sobre el iterador 2: AS\n",
      "Iteramos sobre el iterador 2: J\n",
      "Iteramos sobre el iterador 1: Q\n",
      "Iteramos sobre el iterador 2: K\n",
      "\n",
      "Listado de cartas del iterador 1: ['AS', 'K']\n",
      "Listado de cartas del iterador 2: ['Q']\n"
     ]
    }
   ],
   "source": [
    "mazo = RecorribleDeCartas([Carta('AS'), Carta('J'), Carta('Q'), Carta('K')])\n",
    "\n",
    "iterador_1 = iter(mazo)\n",
    "iterador_2 = iter(mazo)\n",
    "\n",
    "print('Iteramos sobre el iterador 1:', next(iterador_1))\n",
    "print('Iteramos sobre el iterador 2:', next(iterador_2))\n",
    "print('Iteramos sobre el iterador 2:', next(iterador_2))\n",
    "print('Iteramos sobre el iterador 1:', next(iterador_1))\n",
    "print('Iteramos sobre el iterador 2:', next(iterador_2))\n",
    "\n",
    "print()\n",
    "\n",
    "print('Listado de cartas del iterador 1:', iterador_1.cartas)\n",
    "print('Listado de cartas del iterador 2:', iterador_2.cartas)"
   ]
  }
 ],
 "metadata": {
  "kernelspec": {
   "display_name": "Python 3",
   "language": "python",
   "name": "python3"
  },
  "language_info": {
   "codemirror_mode": {
    "name": "ipython",
    "version": 3
   },
   "file_extension": ".py",
   "mimetype": "text/x-python",
   "name": "python",
   "nbconvert_exporter": "python",
   "pygments_lexer": "ipython3",
   "version": "3.11.7"
  }
 },
 "nbformat": 4,
 "nbformat_minor": 2
}
